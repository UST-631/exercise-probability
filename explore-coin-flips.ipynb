{
 "cells": [
  {
   "cell_type": "markdown",
   "id": "eed85477",
   "metadata": {},
   "source": [
    "## Exploring probability\n",
    "\n",
    "In this notebook, we explore some ideas of probability that will help us make inference in the future. This workbook starts with an exercise building a data generating process that flips coins, recording \"H\" or \"T\". We then practice building statistics based on the flips. In this context, the word \"statistic\" just means some sort of numerical summary of a data set. Statistics can be really simple, like the number of rows in a table, or really complicated, like an accuracy measure of a fancy machine learning model. "
   ]
  },
  {
   "cell_type": "code",
   "execution_count": null,
   "id": "868ab9cb",
   "metadata": {},
   "outputs": [],
   "source": [
    "import pandas as pd\n",
    "import numpy as np\n",
    "import matplotlib.pyplot as plt\n",
    "\n",
    "from sequences import sequence_1, sequence_2\n",
    "\n",
    "%matplotlib inline\n"
   ]
  },
  {
   "cell_type": "code",
   "execution_count": null,
   "id": "95f377d2",
   "metadata": {},
   "outputs": [],
   "source": [
    "def do_flips(n=100,seed=None) : \n",
    "    \"\"\"\n",
    "        Inputs: \n",
    "            * n is the number of simulations you want. \n",
    "            * seed is an integer that ensures reproducible input\n",
    "    \n",
    "        Outputs: \n",
    "            * a list of length `n` with randomly chosen Heads and Tails, marked with \n",
    "            \"H\" and \"T\".\n",
    "\n",
    "    \"\"\"\n",
    "\n",
    "    if seed : \n",
    "        np.random.seed(seed)\n",
    "\n",
    "    return np.random.choice([\"H\",\"T\"],size=n,replace=True).tolist()\n",
    "\n",
    "\n",
    "def print_flips(flips,col_width=10) : \n",
    "    \"\"\"\n",
    "        Given a list of flips, this function prints \n",
    "        them in columns col_width wide going down the page.\n",
    "    \"\"\"\n",
    "    sublists = [flips[i:i+col_width] for i in range(0, len(flips), col_width)]\n",
    "\n",
    "    output = \"\\n\".join([\" \".join(row) for row in sublists])\n",
    "    \n",
    "    print(output)\n",
    "\n",
    "    # This functions return is a *side effect*. The printing of the flips.\n",
    "    return None\n"
   ]
  },
  {
   "cell_type": "markdown",
   "id": "2365e68c",
   "metadata": {},
   "source": [
    "## Exploring coin flips\n",
    "\n",
    "Write a function that takes as input a list of \"H\" and \"T\", produced by your `do_flips` function and outputs the *number* of flips that came up heads. Run this 10-20 times flipping 10 coins. Then running 10-20 times flipping 100 coins. \n",
    "\n",
    "#### Question: \n",
    "\n",
    "* What seems more unusual? 3 heads out of 10 or 30 heads out of 100?  "
   ]
  },
  {
   "cell_type": "code",
   "execution_count": null,
   "id": "f9d3bf6c",
   "metadata": {},
   "outputs": [],
   "source": [
    "def count_heads(flips) :\n",
    "    \"\"\"\n",
    "        Returns the number of heads in a list or string.\n",
    "    \"\"\"\n",
    "\n",
    "    # Your code here. Return the number of heads\n",
    "\n",
    "    return 0 \n",
    "    \n",
    "    return head_count\n",
    "\n",
    "\n",
    "## Assertion statements are a great way to test your code. \n",
    "assert(count_heads(\"HHHHHTTTTT\")==5)\n",
    "assert(count_heads(\"H\")==1)\n",
    "assert(count_heads(\"T\")==0)\n",
    "assert(count_heads(\"HTHTHTHTHTHTHT\")==7)\n"
   ]
  },
  {
   "cell_type": "code",
   "execution_count": null,
   "id": "6ac3948a",
   "metadata": {},
   "outputs": [],
   "source": [
    "count_heads(do_flips(10))"
   ]
  },
  {
   "cell_type": "code",
   "execution_count": null,
   "id": "ff9ca70e",
   "metadata": {},
   "outputs": [],
   "source": [
    "count_heads(do_flips(100))"
   ]
  },
  {
   "cell_type": "markdown",
   "id": "ff9664d8",
   "metadata": {},
   "source": [
    "\n",
    "Q: What seems more unusual? 3 heads out of 10 or 30 heads out of 100?  \n",
    "A: <!-- Put your answer around here. What's more rare? 3 out 10 or 30 out of 100? -->\n",
    "\n",
    "---\n",
    "\n",
    "### A new statistic\n",
    "\n",
    "In the space below, try to write a statistic that counts the number of times that two heads appear in sequence. So \"HHHTHH\" would have three squences in spots 0-1, 1-2, and 4-5."
   ]
  },
  {
   "cell_type": "code",
   "execution_count": null,
   "id": "29351249",
   "metadata": {},
   "outputs": [],
   "source": [
    "def count_two_heads(flips) : \n",
    "\n",
    "    # Your code here\n",
    "\n",
    "    return 0\n",
    "\n",
    "assert(count_two_heads(\"HHHTHH\")==3)\n",
    "assert(count_two_heads(\"H\")==0)\n",
    "assert(count_two_heads(\"TTHHTTHHTTHH\")==3)\n",
    "assert(count_two_heads(\"HTHTHTHTHTHTHT\")==0)\n",
    "assert(count_two_heads(\"HHHHHTTTTTT\")==4)\n"
   ]
  },
  {
   "cell_type": "markdown",
   "id": "2cdf0365",
   "metadata": {},
   "source": [
    "--- \n",
    "\n",
    "## Some Exploration\n",
    "\n",
    "Call `count_heads` and `count_two_heads` on `sequence_1` and `sequence_2`, and some instances of `do_flips(100). Does anything stand out at this point?"
   ]
  },
  {
   "cell_type": "code",
   "execution_count": null,
   "id": "c6df1488",
   "metadata": {},
   "outputs": [],
   "source": [
    "print(count_two_heads(sequence_1))\n",
    "print(count_two_heads(sequence_2))"
   ]
  },
  {
   "cell_type": "code",
   "execution_count": null,
   "id": "0948a737",
   "metadata": {},
   "outputs": [],
   "source": [
    "flips = do_flips(100)\n",
    "print(count_heads(flips))\n",
    "print(count_two_heads(flips))"
   ]
  },
  {
   "cell_type": "markdown",
   "id": "758d2209",
   "metadata": {},
   "source": [
    "### Question: \n",
    "\n",
    "Does anything about our squences stand out in either of these statistics for you? \n",
    "\n",
    "---\n",
    "\n",
    "Here's a spot where you can pause if we're in class. We'll sync up and talk for a bit.\n",
    "\n",
    "\n",
    "---\n",
    "\n",
    "### Simulations at scale\n",
    "\n",
    "The beauty of exploring probability with computers is that we can do _lots_ of simulations to understand what's going on. Let's do 10,000 sequences of 10 and 100 coin flips respectively, so that we can look at the results. \n",
    "\n",
    "Side note: we're doing 10000 * 10 + 10000 * 100 coin flips, which is 1.1M coin flips. How long would that take you? "
   ]
  },
  {
   "cell_type": "code",
   "execution_count": null,
   "id": "5466cec1",
   "metadata": {},
   "outputs": [],
   "source": [
    "heads_10 = []\n",
    "heads_100 = []\n",
    "\n",
    "for _ in range(10000) : \n",
    "    heads_10.append(count_heads(do_flips(10)))\n",
    "    heads_100.append(count_heads(do_flips(100)))"
   ]
  },
  {
   "cell_type": "code",
   "execution_count": null,
   "id": "78b26c58",
   "metadata": {},
   "outputs": [],
   "source": [
    "# This is a pretty common way for me to make data frames. Use base Python\n",
    "# to make lists or dictionaries, then put the results in a DF to get\n",
    "# summary stats and plotting.\n",
    "\n",
    "experiment_results = pd.DataFrame({\"heads_10\":heads_10,\n",
    "                                   \"heads_100\":heads_100})"
   ]
  },
  {
   "cell_type": "code",
   "execution_count": null,
   "id": "1ada3c7d",
   "metadata": {},
   "outputs": [],
   "source": [
    "experiment_results['heads_10'].value_counts().sort_index()"
   ]
  },
  {
   "cell_type": "code",
   "execution_count": null,
   "id": "e5a30c3b",
   "metadata": {},
   "outputs": [],
   "source": [
    "experiment_results['heads_100'].value_counts().sort_index()\n",
    "# Printing is not the way to go here"
   ]
  },
  {
   "cell_type": "code",
   "execution_count": null,
   "id": "29de9f70",
   "metadata": {},
   "outputs": [],
   "source": [
    "num_flips = 100\n",
    "\n",
    "plt.bar(x = experiment_results['heads_100'].value_counts().index,\n",
    "        height=experiment_results['heads_100'].value_counts())\n",
    "plt.xlabel(\"Number of Heads\")\n",
    "plt.ylabel(\"Count\")\n",
    "plt.title(f\"Number of heads in {num_flips}\")\n",
    "\n",
    "plt.show()"
   ]
  },
  {
   "cell_type": "code",
   "execution_count": null,
   "id": "8eb81bb7",
   "metadata": {},
   "outputs": [],
   "source": [
    "num_flips = 10\n",
    "\n",
    "plt.bar(x = experiment_results['heads_10'].value_counts().index,\n",
    "        height=experiment_results['heads_10'].value_counts())\n",
    "plt.xlabel(\"Number of Heads\")\n",
    "plt.ylabel(\"Count\")\n",
    "plt.title(f\"Number of heads in {num_flips}\")\n",
    "\n",
    "plt.show()"
   ]
  },
  {
   "cell_type": "markdown",
   "id": "d009ae18",
   "metadata": {},
   "source": [
    "It's going to be handy to have a function that does this plotting, so I'm going to write one."
   ]
  },
  {
   "cell_type": "code",
   "execution_count": null,
   "id": "3628af83",
   "metadata": {},
   "outputs": [],
   "source": [
    "# A function to plot our simulations \n",
    "\n",
    "def plot_simulations(statistic_values, \n",
    "                     statistic_labels,\n",
    "                     chart_title = None,  \n",
    "                     test_value=None) : \n",
    "    \"\"\"\n",
    "        This function takes a statistic and it's x-axis label and builds \n",
    "        a bar chart of all the values. If you include a `test_value`, then \n",
    "        that value will get a vertical line on the chart and you'll learn\n",
    "        what fraction of values are as extreme or more extreme than that value.\n",
    "    \n",
    "        You can also pass in a chart title.\n",
    "    \"\"\"\n",
    "\n",
    "    plt.bar(x=statistic_labels, \n",
    "            height=statistic_values, \n",
    "            color=\"skyblue\", \n",
    "            edgecolor=\"black\")\n",
    "    plt.xlabel(\"Statistical Value\")\n",
    "    plt.ylabel(\"Count\")\n",
    "\n",
    "\n",
    "    extremity = None\n",
    "    if test_value is not None:\n",
    "        mean_val = np.average(statistic_labels, weights=statistic_values)\n",
    "\n",
    "        if test_value <= mean_val:\n",
    "            extremity = np.sum(statistic_values[np.array(statistic_labels) <= test_value]) / np.sum(statistic_values)\n",
    "            arrow_dir = -1  # arrow points left\n",
    "        else:\n",
    "            extremity = np.sum(statistic_values[np.array(statistic_labels) >= test_value]) / np.sum(statistic_values)\n",
    "            arrow_dir = 1   # arrow points right\n",
    "\n",
    "        ax = plt.gca()\n",
    "        ymax = ax.get_ylim()[1]\n",
    "        xmin, xmax = ax.get_xlim()\n",
    "        offset = 0.2 * (xmax - xmin)  \n",
    "\n",
    "        plt.axvline(x=test_value, color=\"red\", linestyle=\"--\",\n",
    "                    label=f\"{extremity:.2%} as extreme\")\n",
    "\n",
    "\n",
    "        # Add arrow annotation\n",
    "        plt.annotate(\n",
    "            \"extreme tail\",\n",
    "            xy=(test_value, ymax*0.8),                         \n",
    "            xytext=(test_value + arrow_dir*offset, ymax*0.8),   \n",
    "            arrowprops=dict(facecolor=\"red\", arrowstyle=\"<-\"),\n",
    "            color=\"red\", ha=\"center\"\n",
    "        )\n",
    "\n",
    "    if chart_title:\n",
    "        plt.title(chart_title)\n",
    "\n",
    "    if test_value is not None:\n",
    "        plt.legend()\n",
    "\n",
    "    plt.show()\n",
    "    \n",
    "    return extremity\n",
    "\n"
   ]
  },
  {
   "cell_type": "code",
   "execution_count": null,
   "id": "73905713",
   "metadata": {},
   "outputs": [],
   "source": [
    "plot_simulations(experiment_results['heads_10'].value_counts(),experiment_results['heads_10'].value_counts().index)"
   ]
  },
  {
   "cell_type": "code",
   "execution_count": null,
   "id": "2fd30cc8",
   "metadata": {},
   "outputs": [],
   "source": [
    "plot_simulations(experiment_results['heads_100'].value_counts(),experiment_results['heads_100'].value_counts().index)"
   ]
  },
  {
   "cell_type": "markdown",
   "id": "0a8907df",
   "metadata": {},
   "source": [
    "Q: Now that you've seen 10,000 coin flip sequences for both scenarios, which seems more common?\n",
    "A: <!-- Your answer around here. Remember, remove these comment characters. -->\n",
    "\n",
    "---\n",
    "\n",
    "# A Brief Diversion\n",
    "\n",
    "It will be important for you to understand some of the power of the `random.random` function, which returns pseudo-random numbers from between 0 and 1. Use the cell below to generate some examples from this function.\n"
   ]
  },
  {
   "cell_type": "code",
   "execution_count": null,
   "id": "d46d11d2",
   "metadata": {},
   "outputs": [],
   "source": [
    "np.random.random()"
   ]
  },
  {
   "cell_type": "markdown",
   "id": "d943c382",
   "metadata": {},
   "source": [
    "Now use the cell below to write a function that allows you to simulate a coin with a probability of heads of something other than 50%. The easiest way is to generate a random value and compare it to your desired heads proportion. If the random value is smaller than the proportion, then mark the flip heads."
   ]
  },
  {
   "cell_type": "code",
   "execution_count": null,
   "id": "f37e8a2b",
   "metadata": {},
   "outputs": [],
   "source": [
    "def do_flips_2(size,heads_probability=0.5,seed=None) : \n",
    "\n",
    "    # I've got it started for\n",
    "    if seed : \n",
    "        np.random.seed(seed)\n",
    "\n",
    "    holder = [None] * size\n",
    "\n",
    "\n",
    "    for idx in range(size) : \n",
    "        # here's where you will fill in `holder` with H and T\n",
    "        pass\n",
    "\n",
    "    return holder"
   ]
  },
  {
   "cell_type": "code",
   "execution_count": null,
   "id": "5991c500",
   "metadata": {},
   "outputs": [],
   "source": [
    "unfair_flips = []\n",
    "\n",
    "for _ in range(1000) : \n",
    "    unfair_flips.append(count_heads(do_flips_2(100,heads_probability=1/30)))\n",
    "\n",
    "experiment_results = pd.DataFrame({'heads':unfair_flips})\n",
    "\n"
   ]
  },
  {
   "cell_type": "code",
   "execution_count": null,
   "id": "7265434d",
   "metadata": {},
   "outputs": [],
   "source": [
    "plot_simulations(experiment_results.value_counts(\"heads\"),experiment_results.value_counts(\"heads\").index)"
   ]
  },
  {
   "cell_type": "markdown",
   "id": "ce7d5cf0",
   "metadata": {},
   "source": [
    "--- \n",
    "\n",
    "### Looking at Rare Events\n",
    "\n",
    "Let's return to our question: \n",
    "\n",
    "* What seems more unusual? 3 heads out of 10 or 30 heads out of 100?  \n",
    "\n",
    "Let's regenerate the data and plot these, looking at our test values."
   ]
  },
  {
   "cell_type": "code",
   "execution_count": null,
   "id": "e553efa9",
   "metadata": {},
   "outputs": [],
   "source": [
    "heads_10 = []\n",
    "heads_100 = []\n",
    "\n",
    "for _ in range(10000) : \n",
    "    heads_10.append(count_heads(do_flips(10)))\n",
    "    heads_100.append(count_heads(do_flips(100)))\n",
    "\n",
    "experiment_results = pd.DataFrame({'heads_10':heads_10,\n",
    "                                  'heads_100':heads_100})"
   ]
  },
  {
   "cell_type": "code",
   "execution_count": null,
   "id": "af4f5623",
   "metadata": {},
   "outputs": [],
   "source": [
    "plot_simulations(experiment_results['heads_10'].value_counts(),\n",
    "                 experiment_results['heads_10'].value_counts().index,\n",
    "                 chart_title = \"Number of Heads in 10 Flips\",\n",
    "                 test_value=3)"
   ]
  },
  {
   "cell_type": "code",
   "execution_count": null,
   "id": "cbe26d26",
   "metadata": {},
   "outputs": [],
   "source": [
    "plot_simulations(experiment_results['heads_100'].value_counts(),\n",
    "                 experiment_results['heads_100'].value_counts().index,\n",
    "                 chart_title = \"Number of Heads in 100 Flips\",\n",
    "                 test_value = 39)"
   ]
  },
  {
   "cell_type": "markdown",
   "id": "7c17c68a",
   "metadata": {},
   "source": [
    "### Answer\n",
    "\n",
    "<!-- Your answer here --> "
   ]
  },
  {
   "cell_type": "markdown",
   "id": "66778e3a",
   "metadata": {},
   "source": [
    "## Two sequences\n",
    "\n",
    "You've been given two sequences. One of them isn't really random. Let's see if we can differentiate them based on number of heads."
   ]
  },
  {
   "cell_type": "code",
   "execution_count": null,
   "id": "53689628",
   "metadata": {},
   "outputs": [],
   "source": [
    "print(f\"Sequence 1 has {count_heads(sequence_1)} heads.\")\n",
    "print(f\"Sequence 2 has {count_heads(sequence_2)} heads.\")"
   ]
  },
  {
   "cell_type": "markdown",
   "id": "bebbd27c",
   "metadata": {},
   "source": [
    "Doesn't look very likely that we'll differentiate them based on heads! But let's run them through."
   ]
  },
  {
   "cell_type": "code",
   "execution_count": null,
   "id": "436c621c",
   "metadata": {},
   "outputs": [],
   "source": [
    "plot_simulations(experiment_results[\"heads_100\"].value_counts(),\n",
    "                 experiment_results[\"heads_100\"].value_counts().index,\n",
    "                 test_value=count_heads(sequence_1),\n",
    "                 chart_title=\"Testing Sequence 1\")"
   ]
  },
  {
   "cell_type": "code",
   "execution_count": null,
   "id": "464d8141",
   "metadata": {},
   "outputs": [],
   "source": [
    "plot_simulations(experiment_results[\"heads_100\"].value_counts(),\n",
    "                 experiment_results[\"heads_100\"].value_counts().index,\n",
    "                 test_value=count_heads(sequence_2),\n",
    "                 chart_title=\"Testing Sequence 2\")"
   ]
  },
  {
   "cell_type": "markdown",
   "id": "6220805c",
   "metadata": {},
   "source": [
    "## Observations\n",
    "\n",
    "Sequence 2 _is_ a bit more extreme, but it's still not very extreme."
   ]
  },
  {
   "cell_type": "markdown",
   "id": "aca1b2f5",
   "metadata": {},
   "source": [
    "## Custom Statistics\n",
    "\n",
    "Think about some statistics that might differentiate the fake data from the real. Build functions for them and see if you can find something that's significant."
   ]
  },
  {
   "cell_type": "code",
   "execution_count": null,
   "id": "11a02021",
   "metadata": {},
   "outputs": [],
   "source": [
    "# Write one or two functions here"
   ]
  },
  {
   "cell_type": "code",
   "execution_count": null,
   "id": "ac4448a0",
   "metadata": {},
   "outputs": [],
   "source": [
    "# Repeat our work to fill up lists and store them in a DataFrame"
   ]
  },
  {
   "cell_type": "code",
   "execution_count": null,
   "id": "3b8fb216-2712-45a2-b58c-69fc03ddb9a7",
   "metadata": {},
   "outputs": [],
   "source": [
    "# Then plot them and compare to the values from our sequences"
   ]
  },
  {
   "cell_type": "code",
   "execution_count": null,
   "id": "5f34de5f",
   "metadata": {},
   "outputs": [],
   "source": [
    "experiment_results['runs'].value_counts().sort_index()"
   ]
  },
  {
   "cell_type": "markdown",
   "id": "2ecf958f",
   "metadata": {},
   "source": [
    "## Results\n",
    "\n",
    "<!-- Your thoughts here --> \n"
   ]
  }
 ],
 "metadata": {
  "kernelspec": {
   "display_name": "Python 3 (ipykernel)",
   "language": "python",
   "name": "python3"
  },
  "language_info": {
   "codemirror_mode": {
    "name": "ipython",
    "version": 3
   },
   "file_extension": ".py",
   "mimetype": "text/x-python",
   "name": "python",
   "nbconvert_exporter": "python",
   "pygments_lexer": "ipython3",
   "version": "3.11.7"
  }
 },
 "nbformat": 4,
 "nbformat_minor": 5
}
